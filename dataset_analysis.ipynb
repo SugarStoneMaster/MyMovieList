{
 "cells": [
  {
   "metadata": {},
   "cell_type": "markdown",
   "source": "# Import dependencies",
   "id": "7bb011d751572587"
  },
  {
   "metadata": {
    "ExecuteTime": {
     "end_time": "2024-06-05T18:56:31.895415Z",
     "start_time": "2024-06-05T18:56:31.892709Z"
    }
   },
   "cell_type": "code",
   "source": [
    "import pandas as pd \n",
    "import matplotlib.pyplot as plt"
   ],
   "id": "1d399446bcfe378b",
   "outputs": [],
   "execution_count": 3
  },
  {
   "metadata": {},
   "cell_type": "markdown",
   "source": "# Data Exploration",
   "id": "d36f5bf3575efea"
  },
  {
   "metadata": {
    "ExecuteTime": {
     "end_time": "2024-06-05T19:02:06.793934Z",
     "start_time": "2024-06-05T19:02:00.580139Z"
    }
   },
   "cell_type": "code",
   "source": [
    "# read dataset\n",
    "df = pd.read_csv('TMDB_all_movies.csv')\n",
    "df.head(5)"
   ],
   "id": "dfc8f16e0e248dde",
   "outputs": [
    {
     "data": {
      "text/plain": [
       "   id                             title  vote_average  vote_count    status  \\\n",
       "0   2                             Ariel         7.100       309.0  Released   \n",
       "1   3               Shadows in Paradise         7.296       357.0  Released   \n",
       "2   5                        Four Rooms         5.829      2564.0  Released   \n",
       "3   6                    Judgment Night         6.500       323.0  Released   \n",
       "4   8  Life in Loops (A Megacities RMX)         7.500        27.0  Released   \n",
       "\n",
       "  release_date     revenue  runtime      budget    imdb_id  ...  \\\n",
       "0   1988-10-21         0.0     73.0         0.0  tt0094675  ...   \n",
       "1   1986-10-17         0.0     74.0         0.0  tt0092149  ...   \n",
       "2   1995-12-09   4257354.0     98.0   4000000.0  tt0113101  ...   \n",
       "3   1993-10-15  12136938.0    109.0  21000000.0  tt0107286  ...   \n",
       "4   2006-01-01         0.0     80.0     42000.0  tt0825671  ...   \n",
       "\n",
       "                          genres  \\\n",
       "0  Drama, Comedy, Romance, Crime   \n",
       "1         Drama, Comedy, Romance   \n",
       "2                         Comedy   \n",
       "3        Action, Crime, Thriller   \n",
       "4                    Documentary   \n",
       "\n",
       "                           production_companies      production_countries  \\\n",
       "0                     Villealfa Filmproductions                   Finland   \n",
       "1                     Villealfa Filmproductions                   Finland   \n",
       "2                         Miramax, A Band Apart  United States of America   \n",
       "3  Largo Entertainment, JVC, Universal Pictures  United States of America   \n",
       "4                                       inLoops                   Austria   \n",
       "\n",
       "                         spoken_languages  \\\n",
       "0                                   suomi   \n",
       "1                 suomi, English, svenska   \n",
       "2                                 English   \n",
       "3                                 English   \n",
       "4  English, हिन्दी, 日本語, Pусский, Español   \n",
       "\n",
       "                                                cast  \\\n",
       "0  Pekka Wilen, Reijo Marin, Kari Helaseppä, Veik...   \n",
       "1  Tanja Talaskivi, Jukka Mäkinen, Mato Valtonen,...   \n",
       "2  Tamlyn Tomita, Madonna, Danny Verduzco, Salma ...   \n",
       "3  Doug Wert, Darin Mangan, Stephen Dorff, Nigel ...   \n",
       "4                                                NaN   \n",
       "\n",
       "                                            director  \\\n",
       "0                                     Aki Kaurismäki   \n",
       "1                                     Aki Kaurismäki   \n",
       "2  Alexandre Rockwell, Robert Rodriguez, Quentin ...   \n",
       "3                                    Stephen Hopkins   \n",
       "4                                       Timo Novotny   \n",
       "\n",
       "                             director_of_photography  \\\n",
       "0                                      Timo Salminen   \n",
       "1                                      Timo Salminen   \n",
       "2  Phil Parmet, Guillermo Navarro, Andrzej Sekula...   \n",
       "3                                         Peter Levy   \n",
       "4                                    Wolfgang Thaler   \n",
       "\n",
       "                                             writers  \\\n",
       "0                                     Aki Kaurismäki   \n",
       "1                                     Aki Kaurismäki   \n",
       "2  Alexandre Rockwell, Allison Anders, Quentin Ta...   \n",
       "3                      Lewis Colick, Jere Cunningham   \n",
       "4                    Michael Glawogger, Timo Novotny   \n",
       "\n",
       "                                           producers      music_composer  \n",
       "0                                     Aki Kaurismäki                 NaN  \n",
       "1                                    Mika Kaurismäki                 NaN  \n",
       "2  Lawrence Bender, Alexandre Rockwell, Quentin T...  Combustible Edison  \n",
       "3              Gene Levy, Marilyn Vance, Lloyd Segan      Alan Silvestri  \n",
       "4                     Ulrich Gehmacher, Timo Novotny                 NaN  \n",
       "\n",
       "[5 rows x 25 columns]"
      ],
      "text/html": [
       "<div>\n",
       "<style scoped>\n",
       "    .dataframe tbody tr th:only-of-type {\n",
       "        vertical-align: middle;\n",
       "    }\n",
       "\n",
       "    .dataframe tbody tr th {\n",
       "        vertical-align: top;\n",
       "    }\n",
       "\n",
       "    .dataframe thead th {\n",
       "        text-align: right;\n",
       "    }\n",
       "</style>\n",
       "<table border=\"1\" class=\"dataframe\">\n",
       "  <thead>\n",
       "    <tr style=\"text-align: right;\">\n",
       "      <th></th>\n",
       "      <th>id</th>\n",
       "      <th>title</th>\n",
       "      <th>vote_average</th>\n",
       "      <th>vote_count</th>\n",
       "      <th>status</th>\n",
       "      <th>release_date</th>\n",
       "      <th>revenue</th>\n",
       "      <th>runtime</th>\n",
       "      <th>budget</th>\n",
       "      <th>imdb_id</th>\n",
       "      <th>...</th>\n",
       "      <th>genres</th>\n",
       "      <th>production_companies</th>\n",
       "      <th>production_countries</th>\n",
       "      <th>spoken_languages</th>\n",
       "      <th>cast</th>\n",
       "      <th>director</th>\n",
       "      <th>director_of_photography</th>\n",
       "      <th>writers</th>\n",
       "      <th>producers</th>\n",
       "      <th>music_composer</th>\n",
       "    </tr>\n",
       "  </thead>\n",
       "  <tbody>\n",
       "    <tr>\n",
       "      <th>0</th>\n",
       "      <td>2</td>\n",
       "      <td>Ariel</td>\n",
       "      <td>7.100</td>\n",
       "      <td>309.0</td>\n",
       "      <td>Released</td>\n",
       "      <td>1988-10-21</td>\n",
       "      <td>0.0</td>\n",
       "      <td>73.0</td>\n",
       "      <td>0.0</td>\n",
       "      <td>tt0094675</td>\n",
       "      <td>...</td>\n",
       "      <td>Drama, Comedy, Romance, Crime</td>\n",
       "      <td>Villealfa Filmproductions</td>\n",
       "      <td>Finland</td>\n",
       "      <td>suomi</td>\n",
       "      <td>Pekka Wilen, Reijo Marin, Kari Helaseppä, Veik...</td>\n",
       "      <td>Aki Kaurismäki</td>\n",
       "      <td>Timo Salminen</td>\n",
       "      <td>Aki Kaurismäki</td>\n",
       "      <td>Aki Kaurismäki</td>\n",
       "      <td>NaN</td>\n",
       "    </tr>\n",
       "    <tr>\n",
       "      <th>1</th>\n",
       "      <td>3</td>\n",
       "      <td>Shadows in Paradise</td>\n",
       "      <td>7.296</td>\n",
       "      <td>357.0</td>\n",
       "      <td>Released</td>\n",
       "      <td>1986-10-17</td>\n",
       "      <td>0.0</td>\n",
       "      <td>74.0</td>\n",
       "      <td>0.0</td>\n",
       "      <td>tt0092149</td>\n",
       "      <td>...</td>\n",
       "      <td>Drama, Comedy, Romance</td>\n",
       "      <td>Villealfa Filmproductions</td>\n",
       "      <td>Finland</td>\n",
       "      <td>suomi, English, svenska</td>\n",
       "      <td>Tanja Talaskivi, Jukka Mäkinen, Mato Valtonen,...</td>\n",
       "      <td>Aki Kaurismäki</td>\n",
       "      <td>Timo Salminen</td>\n",
       "      <td>Aki Kaurismäki</td>\n",
       "      <td>Mika Kaurismäki</td>\n",
       "      <td>NaN</td>\n",
       "    </tr>\n",
       "    <tr>\n",
       "      <th>2</th>\n",
       "      <td>5</td>\n",
       "      <td>Four Rooms</td>\n",
       "      <td>5.829</td>\n",
       "      <td>2564.0</td>\n",
       "      <td>Released</td>\n",
       "      <td>1995-12-09</td>\n",
       "      <td>4257354.0</td>\n",
       "      <td>98.0</td>\n",
       "      <td>4000000.0</td>\n",
       "      <td>tt0113101</td>\n",
       "      <td>...</td>\n",
       "      <td>Comedy</td>\n",
       "      <td>Miramax, A Band Apart</td>\n",
       "      <td>United States of America</td>\n",
       "      <td>English</td>\n",
       "      <td>Tamlyn Tomita, Madonna, Danny Verduzco, Salma ...</td>\n",
       "      <td>Alexandre Rockwell, Robert Rodriguez, Quentin ...</td>\n",
       "      <td>Phil Parmet, Guillermo Navarro, Andrzej Sekula...</td>\n",
       "      <td>Alexandre Rockwell, Allison Anders, Quentin Ta...</td>\n",
       "      <td>Lawrence Bender, Alexandre Rockwell, Quentin T...</td>\n",
       "      <td>Combustible Edison</td>\n",
       "    </tr>\n",
       "    <tr>\n",
       "      <th>3</th>\n",
       "      <td>6</td>\n",
       "      <td>Judgment Night</td>\n",
       "      <td>6.500</td>\n",
       "      <td>323.0</td>\n",
       "      <td>Released</td>\n",
       "      <td>1993-10-15</td>\n",
       "      <td>12136938.0</td>\n",
       "      <td>109.0</td>\n",
       "      <td>21000000.0</td>\n",
       "      <td>tt0107286</td>\n",
       "      <td>...</td>\n",
       "      <td>Action, Crime, Thriller</td>\n",
       "      <td>Largo Entertainment, JVC, Universal Pictures</td>\n",
       "      <td>United States of America</td>\n",
       "      <td>English</td>\n",
       "      <td>Doug Wert, Darin Mangan, Stephen Dorff, Nigel ...</td>\n",
       "      <td>Stephen Hopkins</td>\n",
       "      <td>Peter Levy</td>\n",
       "      <td>Lewis Colick, Jere Cunningham</td>\n",
       "      <td>Gene Levy, Marilyn Vance, Lloyd Segan</td>\n",
       "      <td>Alan Silvestri</td>\n",
       "    </tr>\n",
       "    <tr>\n",
       "      <th>4</th>\n",
       "      <td>8</td>\n",
       "      <td>Life in Loops (A Megacities RMX)</td>\n",
       "      <td>7.500</td>\n",
       "      <td>27.0</td>\n",
       "      <td>Released</td>\n",
       "      <td>2006-01-01</td>\n",
       "      <td>0.0</td>\n",
       "      <td>80.0</td>\n",
       "      <td>42000.0</td>\n",
       "      <td>tt0825671</td>\n",
       "      <td>...</td>\n",
       "      <td>Documentary</td>\n",
       "      <td>inLoops</td>\n",
       "      <td>Austria</td>\n",
       "      <td>English, हिन्दी, 日本語, Pусский, Español</td>\n",
       "      <td>NaN</td>\n",
       "      <td>Timo Novotny</td>\n",
       "      <td>Wolfgang Thaler</td>\n",
       "      <td>Michael Glawogger, Timo Novotny</td>\n",
       "      <td>Ulrich Gehmacher, Timo Novotny</td>\n",
       "      <td>NaN</td>\n",
       "    </tr>\n",
       "  </tbody>\n",
       "</table>\n",
       "<p>5 rows × 25 columns</p>\n",
       "</div>"
      ]
     },
     "execution_count": 15,
     "metadata": {},
     "output_type": "execute_result"
    }
   ],
   "execution_count": 15
  },
  {
   "metadata": {
    "ExecuteTime": {
     "end_time": "2024-06-05T18:57:55.374458Z",
     "start_time": "2024-06-05T18:57:55.369222Z"
    }
   },
   "cell_type": "code",
   "source": "df.dtypes",
   "id": "6461ba1e8d6c51e7",
   "outputs": [
    {
     "data": {
      "text/plain": [
       "id                           int64\n",
       "title                       object\n",
       "vote_average               float64\n",
       "vote_count                 float64\n",
       "status                      object\n",
       "release_date                object\n",
       "revenue                    float64\n",
       "runtime                    float64\n",
       "budget                     float64\n",
       "imdb_id                     object\n",
       "original_language           object\n",
       "original_title              object\n",
       "overview                    object\n",
       "popularity                 float64\n",
       "tagline                     object\n",
       "genres                      object\n",
       "production_companies        object\n",
       "production_countries        object\n",
       "spoken_languages            object\n",
       "cast                        object\n",
       "director                    object\n",
       "director_of_photography     object\n",
       "writers                     object\n",
       "producers                   object\n",
       "music_composer              object\n",
       "dtype: object"
      ]
     },
     "execution_count": 7,
     "metadata": {},
     "output_type": "execute_result"
    }
   ],
   "execution_count": 7
  },
  {
   "metadata": {
    "ExecuteTime": {
     "end_time": "2024-06-05T18:56:41.260888Z",
     "start_time": "2024-06-05T18:56:40.929931Z"
    }
   },
   "cell_type": "code",
   "source": "df.info()",
   "id": "acba7f8fda745028",
   "outputs": [
    {
     "name": "stdout",
     "output_type": "stream",
     "text": [
      "<class 'pandas.core.frame.DataFrame'>\n",
      "RangeIndex: 939654 entries, 0 to 939653\n",
      "Data columns (total 25 columns):\n",
      " #   Column                   Non-Null Count   Dtype  \n",
      "---  ------                   --------------   -----  \n",
      " 0   id                       939654 non-null  int64  \n",
      " 1   title                    939648 non-null  object \n",
      " 2   vote_average             939653 non-null  float64\n",
      " 3   vote_count               939653 non-null  float64\n",
      " 4   status                   939653 non-null  object \n",
      " 5   release_date             848815 non-null  object \n",
      " 6   revenue                  939653 non-null  float64\n",
      " 7   runtime                  939653 non-null  float64\n",
      " 8   budget                   939653 non-null  float64\n",
      " 9   imdb_id                  563828 non-null  object \n",
      " 10  original_language        939653 non-null  object \n",
      " 11  original_title           939647 non-null  object \n",
      " 12  overview                 781896 non-null  object \n",
      " 13  popularity               939653 non-null  float64\n",
      " 14  tagline                  138865 non-null  object \n",
      " 15  genres                   667928 non-null  object \n",
      " 16  production_companies     434313 non-null  object \n",
      " 17  production_countries     575955 non-null  object \n",
      " 18  spoken_languages         580985 non-null  object \n",
      " 19  cast                     631004 non-null  object \n",
      " 20  director                 776164 non-null  object \n",
      " 21  director_of_photography  222497 non-null  object \n",
      " 22  writers                  453992 non-null  object \n",
      " 23  producers                295898 non-null  object \n",
      " 24  music_composer           90776 non-null   object \n",
      "dtypes: float64(6), int64(1), object(18)\n",
      "memory usage: 179.2+ MB\n"
     ]
    }
   ],
   "execution_count": 5
  },
  {
   "metadata": {
    "ExecuteTime": {
     "end_time": "2024-06-05T18:56:55.214292Z",
     "start_time": "2024-06-05T18:56:55.034855Z"
    }
   },
   "cell_type": "code",
   "source": "df.describe()",
   "id": "c3ee4329a984b5a4",
   "outputs": [
    {
     "data": {
      "text/plain": [
       "                 id   vote_average     vote_count       revenue  \\\n",
       "count  9.396540e+05  939653.000000  939653.000000  9.396530e+05   \n",
       "mean   6.689094e+05       2.228444      24.309157  8.140174e+05   \n",
       "std    3.704126e+05       3.121084     366.834505  1.843447e+07   \n",
       "min    2.000000e+00       0.000000       0.000000 -1.200000e+01   \n",
       "25%    3.601902e+05       0.000000       0.000000  0.000000e+00   \n",
       "50%    6.637565e+05       0.000000       0.000000  0.000000e+00   \n",
       "75%    9.907878e+05       5.200000       1.000000  0.000000e+00   \n",
       "max    2.662126e+06      10.000000   35747.000000  3.000000e+09   \n",
       "\n",
       "             runtime        budget     popularity  \n",
       "count  939653.000000  9.396530e+05  939653.000000  \n",
       "mean       46.466688  3.217944e+05       2.098629  \n",
       "std        58.469411  5.124697e+06      11.142539  \n",
       "min         0.000000  0.000000e+00       0.000000  \n",
       "25%         2.000000  0.000000e+00       0.600000  \n",
       "50%        26.000000  0.000000e+00       0.853000  \n",
       "75%        87.000000  0.000000e+00       1.441000  \n",
       "max     14400.000000  6.456547e+08    5081.145000  "
      ],
      "text/html": [
       "<div>\n",
       "<style scoped>\n",
       "    .dataframe tbody tr th:only-of-type {\n",
       "        vertical-align: middle;\n",
       "    }\n",
       "\n",
       "    .dataframe tbody tr th {\n",
       "        vertical-align: top;\n",
       "    }\n",
       "\n",
       "    .dataframe thead th {\n",
       "        text-align: right;\n",
       "    }\n",
       "</style>\n",
       "<table border=\"1\" class=\"dataframe\">\n",
       "  <thead>\n",
       "    <tr style=\"text-align: right;\">\n",
       "      <th></th>\n",
       "      <th>id</th>\n",
       "      <th>vote_average</th>\n",
       "      <th>vote_count</th>\n",
       "      <th>revenue</th>\n",
       "      <th>runtime</th>\n",
       "      <th>budget</th>\n",
       "      <th>popularity</th>\n",
       "    </tr>\n",
       "  </thead>\n",
       "  <tbody>\n",
       "    <tr>\n",
       "      <th>count</th>\n",
       "      <td>9.396540e+05</td>\n",
       "      <td>939653.000000</td>\n",
       "      <td>939653.000000</td>\n",
       "      <td>9.396530e+05</td>\n",
       "      <td>939653.000000</td>\n",
       "      <td>9.396530e+05</td>\n",
       "      <td>939653.000000</td>\n",
       "    </tr>\n",
       "    <tr>\n",
       "      <th>mean</th>\n",
       "      <td>6.689094e+05</td>\n",
       "      <td>2.228444</td>\n",
       "      <td>24.309157</td>\n",
       "      <td>8.140174e+05</td>\n",
       "      <td>46.466688</td>\n",
       "      <td>3.217944e+05</td>\n",
       "      <td>2.098629</td>\n",
       "    </tr>\n",
       "    <tr>\n",
       "      <th>std</th>\n",
       "      <td>3.704126e+05</td>\n",
       "      <td>3.121084</td>\n",
       "      <td>366.834505</td>\n",
       "      <td>1.843447e+07</td>\n",
       "      <td>58.469411</td>\n",
       "      <td>5.124697e+06</td>\n",
       "      <td>11.142539</td>\n",
       "    </tr>\n",
       "    <tr>\n",
       "      <th>min</th>\n",
       "      <td>2.000000e+00</td>\n",
       "      <td>0.000000</td>\n",
       "      <td>0.000000</td>\n",
       "      <td>-1.200000e+01</td>\n",
       "      <td>0.000000</td>\n",
       "      <td>0.000000e+00</td>\n",
       "      <td>0.000000</td>\n",
       "    </tr>\n",
       "    <tr>\n",
       "      <th>25%</th>\n",
       "      <td>3.601902e+05</td>\n",
       "      <td>0.000000</td>\n",
       "      <td>0.000000</td>\n",
       "      <td>0.000000e+00</td>\n",
       "      <td>2.000000</td>\n",
       "      <td>0.000000e+00</td>\n",
       "      <td>0.600000</td>\n",
       "    </tr>\n",
       "    <tr>\n",
       "      <th>50%</th>\n",
       "      <td>6.637565e+05</td>\n",
       "      <td>0.000000</td>\n",
       "      <td>0.000000</td>\n",
       "      <td>0.000000e+00</td>\n",
       "      <td>26.000000</td>\n",
       "      <td>0.000000e+00</td>\n",
       "      <td>0.853000</td>\n",
       "    </tr>\n",
       "    <tr>\n",
       "      <th>75%</th>\n",
       "      <td>9.907878e+05</td>\n",
       "      <td>5.200000</td>\n",
       "      <td>1.000000</td>\n",
       "      <td>0.000000e+00</td>\n",
       "      <td>87.000000</td>\n",
       "      <td>0.000000e+00</td>\n",
       "      <td>1.441000</td>\n",
       "    </tr>\n",
       "    <tr>\n",
       "      <th>max</th>\n",
       "      <td>2.662126e+06</td>\n",
       "      <td>10.000000</td>\n",
       "      <td>35747.000000</td>\n",
       "      <td>3.000000e+09</td>\n",
       "      <td>14400.000000</td>\n",
       "      <td>6.456547e+08</td>\n",
       "      <td>5081.145000</td>\n",
       "    </tr>\n",
       "  </tbody>\n",
       "</table>\n",
       "</div>"
      ]
     },
     "execution_count": 6,
     "metadata": {},
     "output_type": "execute_result"
    }
   ],
   "execution_count": 6
  },
  {
   "metadata": {
    "ExecuteTime": {
     "end_time": "2024-06-05T18:58:59.610653Z",
     "start_time": "2024-06-05T18:58:59.286906Z"
    }
   },
   "cell_type": "code",
   "source": [
    "# check how many NaN values there are in the dataset per column\n",
    "df.isna().sum()"
   ],
   "id": "6413e4c563145bc5",
   "outputs": [
    {
     "data": {
      "text/plain": [
       "id                              0\n",
       "title                           6\n",
       "vote_average                    1\n",
       "vote_count                      1\n",
       "status                          1\n",
       "release_date                90839\n",
       "revenue                         1\n",
       "runtime                         1\n",
       "budget                          1\n",
       "imdb_id                    375826\n",
       "original_language               1\n",
       "original_title                  7\n",
       "overview                   157758\n",
       "popularity                      1\n",
       "tagline                    800789\n",
       "genres                     271726\n",
       "production_companies       505341\n",
       "production_countries       363699\n",
       "spoken_languages           358669\n",
       "cast                       308650\n",
       "director                   163490\n",
       "director_of_photography    717157\n",
       "writers                    485662\n",
       "producers                  643756\n",
       "music_composer             848878\n",
       "dtype: int64"
      ]
     },
     "execution_count": 9,
     "metadata": {},
     "output_type": "execute_result"
    }
   ],
   "execution_count": 9
  },
  {
   "metadata": {
    "ExecuteTime": {
     "end_time": "2024-06-05T18:59:46.548218Z",
     "start_time": "2024-06-05T18:59:46.545166Z"
    }
   },
   "cell_type": "code",
   "source": [
    "# list columns\n",
    "columns = list(df.columns)\n",
    "columns"
   ],
   "id": "be333c4e8e2097d",
   "outputs": [
    {
     "data": {
      "text/plain": [
       "['id',\n",
       " 'title',\n",
       " 'vote_average',\n",
       " 'vote_count',\n",
       " 'status',\n",
       " 'release_date',\n",
       " 'revenue',\n",
       " 'runtime',\n",
       " 'budget',\n",
       " 'imdb_id',\n",
       " 'original_language',\n",
       " 'original_title',\n",
       " 'overview',\n",
       " 'popularity',\n",
       " 'tagline',\n",
       " 'genres',\n",
       " 'production_companies',\n",
       " 'production_countries',\n",
       " 'spoken_languages',\n",
       " 'cast',\n",
       " 'director',\n",
       " 'director_of_photography',\n",
       " 'writers',\n",
       " 'producers',\n",
       " 'music_composer']"
      ]
     },
     "execution_count": 11,
     "metadata": {},
     "output_type": "execute_result"
    }
   ],
   "execution_count": 11
  },
  {
   "metadata": {
    "ExecuteTime": {
     "end_time": "2024-06-05T19:37:35.594504Z",
     "start_time": "2024-06-05T19:37:35.132146Z"
    }
   },
   "cell_type": "code",
   "source": [
    "# remove rows with Nan values \n",
    "clean_df = df.dropna()\n",
    "clean_df.describe()"
   ],
   "id": "f11ba23efa1f9fee",
   "outputs": [
    {
     "data": {
      "text/plain": [
       "                 id  vote_average    vote_count       revenue       runtime  \\\n",
       "count  2.334900e+04  23349.000000  23349.000000  2.334900e+04  23349.000000   \n",
       "mean   1.985845e+05      5.874164    676.871258  2.461073e+07    100.401345   \n",
       "std    2.604956e+05      1.448193   2062.822058  1.000683e+08     23.741081   \n",
       "min    5.000000e+00      0.000000      0.000000  0.000000e+00      0.000000   \n",
       "25%    2.304700e+04      5.367000     13.000000  0.000000e+00     89.000000   \n",
       "50%    7.203200e+04      6.100000     60.000000  0.000000e+00     97.000000   \n",
       "75%    2.902500e+05      6.722000    353.000000  4.100000e+06    110.000000   \n",
       "max    1.297485e+06     10.000000  35747.000000  2.923706e+09    803.000000   \n",
       "\n",
       "             budget    popularity  \n",
       "count  2.334900e+04  23349.000000  \n",
       "mean   9.066760e+06     19.727578  \n",
       "std    2.659968e+07     59.470142  \n",
       "min    0.000000e+00      0.463000  \n",
       "25%    0.000000e+00      3.845000  \n",
       "50%    0.000000e+00      9.724000  \n",
       "75%    3.900000e+06     20.668000  \n",
       "max    4.600000e+08   5081.145000  "
      ],
      "text/html": [
       "<div>\n",
       "<style scoped>\n",
       "    .dataframe tbody tr th:only-of-type {\n",
       "        vertical-align: middle;\n",
       "    }\n",
       "\n",
       "    .dataframe tbody tr th {\n",
       "        vertical-align: top;\n",
       "    }\n",
       "\n",
       "    .dataframe thead th {\n",
       "        text-align: right;\n",
       "    }\n",
       "</style>\n",
       "<table border=\"1\" class=\"dataframe\">\n",
       "  <thead>\n",
       "    <tr style=\"text-align: right;\">\n",
       "      <th></th>\n",
       "      <th>id</th>\n",
       "      <th>vote_average</th>\n",
       "      <th>vote_count</th>\n",
       "      <th>revenue</th>\n",
       "      <th>runtime</th>\n",
       "      <th>budget</th>\n",
       "      <th>popularity</th>\n",
       "    </tr>\n",
       "  </thead>\n",
       "  <tbody>\n",
       "    <tr>\n",
       "      <th>count</th>\n",
       "      <td>2.334900e+04</td>\n",
       "      <td>23349.000000</td>\n",
       "      <td>23349.000000</td>\n",
       "      <td>2.334900e+04</td>\n",
       "      <td>23349.000000</td>\n",
       "      <td>2.334900e+04</td>\n",
       "      <td>23349.000000</td>\n",
       "    </tr>\n",
       "    <tr>\n",
       "      <th>mean</th>\n",
       "      <td>1.985845e+05</td>\n",
       "      <td>5.874164</td>\n",
       "      <td>676.871258</td>\n",
       "      <td>2.461073e+07</td>\n",
       "      <td>100.401345</td>\n",
       "      <td>9.066760e+06</td>\n",
       "      <td>19.727578</td>\n",
       "    </tr>\n",
       "    <tr>\n",
       "      <th>std</th>\n",
       "      <td>2.604956e+05</td>\n",
       "      <td>1.448193</td>\n",
       "      <td>2062.822058</td>\n",
       "      <td>1.000683e+08</td>\n",
       "      <td>23.741081</td>\n",
       "      <td>2.659968e+07</td>\n",
       "      <td>59.470142</td>\n",
       "    </tr>\n",
       "    <tr>\n",
       "      <th>min</th>\n",
       "      <td>5.000000e+00</td>\n",
       "      <td>0.000000</td>\n",
       "      <td>0.000000</td>\n",
       "      <td>0.000000e+00</td>\n",
       "      <td>0.000000</td>\n",
       "      <td>0.000000e+00</td>\n",
       "      <td>0.463000</td>\n",
       "    </tr>\n",
       "    <tr>\n",
       "      <th>25%</th>\n",
       "      <td>2.304700e+04</td>\n",
       "      <td>5.367000</td>\n",
       "      <td>13.000000</td>\n",
       "      <td>0.000000e+00</td>\n",
       "      <td>89.000000</td>\n",
       "      <td>0.000000e+00</td>\n",
       "      <td>3.845000</td>\n",
       "    </tr>\n",
       "    <tr>\n",
       "      <th>50%</th>\n",
       "      <td>7.203200e+04</td>\n",
       "      <td>6.100000</td>\n",
       "      <td>60.000000</td>\n",
       "      <td>0.000000e+00</td>\n",
       "      <td>97.000000</td>\n",
       "      <td>0.000000e+00</td>\n",
       "      <td>9.724000</td>\n",
       "    </tr>\n",
       "    <tr>\n",
       "      <th>75%</th>\n",
       "      <td>2.902500e+05</td>\n",
       "      <td>6.722000</td>\n",
       "      <td>353.000000</td>\n",
       "      <td>4.100000e+06</td>\n",
       "      <td>110.000000</td>\n",
       "      <td>3.900000e+06</td>\n",
       "      <td>20.668000</td>\n",
       "    </tr>\n",
       "    <tr>\n",
       "      <th>max</th>\n",
       "      <td>1.297485e+06</td>\n",
       "      <td>10.000000</td>\n",
       "      <td>35747.000000</td>\n",
       "      <td>2.923706e+09</td>\n",
       "      <td>803.000000</td>\n",
       "      <td>4.600000e+08</td>\n",
       "      <td>5081.145000</td>\n",
       "    </tr>\n",
       "  </tbody>\n",
       "</table>\n",
       "</div>"
      ]
     },
     "execution_count": 94,
     "metadata": {},
     "output_type": "execute_result"
    }
   ],
   "execution_count": 94
  },
  {
   "metadata": {
    "ExecuteTime": {
     "end_time": "2024-06-05T19:34:57.376477Z",
     "start_time": "2024-06-05T19:34:57.359952Z"
    }
   },
   "cell_type": "code",
   "source": "clean_df.isna().sum()",
   "id": "f0c1447b6b61d6bb",
   "outputs": [
    {
     "data": {
      "text/plain": [
       "id                         0\n",
       "title                      0\n",
       "vote_average               0\n",
       "vote_count                 0\n",
       "status                     0\n",
       "release_date               0\n",
       "revenue                    0\n",
       "runtime                    0\n",
       "budget                     0\n",
       "imdb_id                    0\n",
       "original_language          0\n",
       "original_title             0\n",
       "overview                   0\n",
       "popularity                 0\n",
       "tagline                    0\n",
       "genres                     0\n",
       "production_companies       0\n",
       "production_countries       0\n",
       "spoken_languages           0\n",
       "cast                       0\n",
       "director                   0\n",
       "director_of_photography    0\n",
       "writers                    0\n",
       "producers                  0\n",
       "music_composer             0\n",
       "dtype: int64"
      ]
     },
     "execution_count": 78,
     "metadata": {},
     "output_type": "execute_result"
    }
   ],
   "execution_count": 78
  },
  {
   "metadata": {
    "ExecuteTime": {
     "end_time": "2024-06-05T19:34:58.048682Z",
     "start_time": "2024-06-05T19:34:58.046526Z"
    }
   },
   "cell_type": "code",
   "source": "print(f\"Dataset length pre pre-processing: {len(df)} - Dataset length post-processing: {len(clean_df)}\\n Removed {len(df) - len(clean_df)} rows\")",
   "id": "5e59830654b45b74",
   "outputs": [
    {
     "name": "stdout",
     "output_type": "stream",
     "text": [
      "Dataset length pre pre-processing: 939654 - Dataset length post-processing: 23349\n",
      " Removed 916305 rows\n"
     ]
    }
   ],
   "execution_count": 79
  },
  {
   "metadata": {
    "ExecuteTime": {
     "end_time": "2024-06-05T19:38:37.333502Z",
     "start_time": "2024-06-05T19:38:37.311239Z"
    }
   },
   "cell_type": "code",
   "source": [
    "# add release_year\n",
    "clean_df.loc[:, 'release_year'] = clean_df.loc[:, 'release_date'].str.slice(0, 4)\n",
    "# Convert 'release_year' to numeric type if needed (e.g., to perform numeric operations)\n",
    "clean_df.loc[:, 'release_year'] = pd.to_numeric(clean_df['release_year'], errors='coerce', downcast='integer')\n",
    "clean_df['release_year'].describe()"
   ],
   "id": "c897585465b8829e",
   "outputs": [
    {
     "name": "stderr",
     "output_type": "stream",
     "text": [
      "/var/folders/v2/gprdqff55rl6rx_slnm5nmd00000gn/T/ipykernel_6226/1440289688.py:2: SettingWithCopyWarning: \n",
      "A value is trying to be set on a copy of a slice from a DataFrame.\n",
      "Try using .loc[row_indexer,col_indexer] = value instead\n",
      "\n",
      "See the caveats in the documentation: https://pandas.pydata.org/pandas-docs/stable/user_guide/indexing.html#returning-a-view-versus-a-copy\n",
      "  clean_df.loc[:, 'release_year'] = clean_df.loc[:, 'release_date'].str.slice(0, 4)\n"
     ]
    },
    {
     "data": {
      "text/plain": [
       "count     23349\n",
       "unique      112\n",
       "top        2019\n",
       "freq        645\n",
       "Name: release_year, dtype: int64"
      ]
     },
     "execution_count": 97,
     "metadata": {},
     "output_type": "execute_result"
    }
   ],
   "execution_count": 97
  },
  {
   "metadata": {
    "ExecuteTime": {
     "end_time": "2024-06-05T19:38:37.864497Z",
     "start_time": "2024-06-05T19:38:37.859534Z"
    }
   },
   "cell_type": "code",
   "source": "print(f\"Min Release Year: {min(clean_df['release_year'])} - Max Release Year: {max(clean_df['release_year'])}\")",
   "id": "536762af4612e29f",
   "outputs": [
    {
     "name": "stdout",
     "output_type": "stream",
     "text": [
      "Min Release Year: 1914 - Max Release Year: 2025\n"
     ]
    }
   ],
   "execution_count": 98
  },
  {
   "metadata": {
    "ExecuteTime": {
     "end_time": "2024-06-05T19:38:38.448477Z",
     "start_time": "2024-06-05T19:38:38.444954Z"
    }
   },
   "cell_type": "code",
   "source": "len(clean_df['release_year'].unique())",
   "id": "2b3e905cd7020ed2",
   "outputs": [
    {
     "data": {
      "text/plain": [
       "112"
      ]
     },
     "execution_count": 99,
     "metadata": {},
     "output_type": "execute_result"
    }
   ],
   "execution_count": 99
  },
  {
   "metadata": {
    "ExecuteTime": {
     "end_time": "2024-06-05T19:38:38.968804Z",
     "start_time": "2024-06-05T19:38:38.897943Z"
    }
   },
   "cell_type": "code",
   "source": [
    "fig, ax = plt.subplots()\n",
    "\n",
    "# consider only the last 30 years \n",
    "clean_df = clean_df.loc[(clean_df['release_year'] >= 1995) & (clean_df['release_year'] <= 2025)] \n",
    "ax.bar(clean_df['release_year'].unique(), clean_df['release_year'].value_counts())\n",
    "\n",
    "ax.set_ylabel('Frequenza')\n",
    "ax.set_title('Anno di Rilascio')\n",
    "\n",
    "plt.show()"
   ],
   "id": "5d16e1a517186c15",
   "outputs": [
    {
     "data": {
      "text/plain": [
       "<Figure size 640x480 with 1 Axes>"
      ],
      "image/png": "[encoded data removed]"
     },
     "metadata": {},
     "output_type": "display_data"
    }
   ],
   "execution_count": 100
  },
  {
   "metadata": {
    "ExecuteTime": {
     "end_time": "2024-06-05T19:38:39.714598Z",
     "start_time": "2024-06-05T19:38:39.562187Z"
    }
   },
   "cell_type": "code",
   "source": [
    "plt.figure(figsize=(25, 6))\n",
    "plt.subplot(1, 2, 1)\n",
    "\n",
    "plot_revenue_over_years = clean_df.groupby('release_year')['revenue'].sum()\n",
    "plot_revenue_over_years = plot_revenue_over_years.sort_index()\n",
    "plot_revenue_over_years.plot()\n",
    "\n",
    "plt.title('Botteghino per Anno')\n",
    "plt.xlabel('Anno di Rilascio')\n",
    "plt.ylabel('Botteghino')\n",
    "\n",
    "plt.subplot(1, 2, 2)\n",
    "\n",
    "plot_budget_over_years = clean_df.groupby('release_year')['budget'].sum()\n",
    "plot_budget_over_years = plot_budget_over_years.sort_index()\n",
    "plot_budget_over_years.plot()\n",
    "\n",
    "plt.title('Budget per Anno')\n",
    "plt.xlabel('Anno di Rilascio')\n",
    "plt.ylabel('Budget')\n",
    "\n",
    "plt.show()"
   ],
   "id": "d15ce9c9623e299c",
   "outputs": [
    {
     "data": {
      "text/plain": [
       "<Figure size 2500x600 with 2 Axes>"
      ],
      "image/png": "[encoded data removed]"
     },
     "metadata": {},
     "output_type": "display_data"
    }
   ],
   "execution_count": 101
  },
  {
   "metadata": {
    "ExecuteTime": {
     "end_time": "2024-06-05T19:38:40.405036Z",
     "start_time": "2024-06-05T19:38:40.332832Z"
    }
   },
   "cell_type": "code",
   "source": [
    "clean_df.loc[:, 'profit'] = clean_df.loc[:, 'revenue'] - clean_df.loc[:, 'budget']\n",
    "\n",
    "plot_profit_over_years = clean_df.groupby('release_year')['profit'].sum()\n",
    "plot_profit_over_years = plot_profit_over_years.sort_index()\n",
    "plot_profit_over_years.plot()\n",
    "\n",
    "plt.title('Profitto per Anno')\n",
    "plt.xlabel('Anno di Rilascio')\n",
    "plt.ylabel('Profitto')\n",
    "\n",
    "plt.show()"
   ],
   "id": "75be15d0e6cf37cf",
   "outputs": [
    {
     "name": "stderr",
     "output_type": "stream",
     "text": [
      "/var/folders/v2/gprdqff55rl6rx_slnm5nmd00000gn/T/ipykernel_6226/2250771975.py:1: SettingWithCopyWarning: \n",
      "A value is trying to be set on a copy of a slice from a DataFrame.\n",
      "Try using .loc[row_indexer,col_indexer] = value instead\n",
      "\n",
      "See the caveats in the documentation: https://pandas.pydata.org/pandas-docs/stable/user_guide/indexing.html#returning-a-view-versus-a-copy\n",
      "  clean_df['profit'] = clean_df['revenue'] - clean_df['budget']\n"
     ]
    },
    {
     "data": {
      "text/plain": [
       "<Figure size 640x480 with 1 Axes>"
      ],
      "image/png": "[encoded data removed]"
     },
     "metadata": {},
     "output_type": "display_data"
    }
   ],
   "execution_count": 102
  },
  {
   "metadata": {},
   "cell_type": "code",
   "outputs": [],
   "execution_count": null,
   "source": "",
   "id": "91bdf7c9f96396b7"
  }
 ],
 "metadata": {
  "kernelspec": {
   "display_name": "Python 3",
   "language": "python",
   "name": "python3"
  },
  "language_info": {
   "codemirror_mode": {
    "name": "ipython",
    "version": 2
   },
   "file_extension": ".py",
   "mimetype": "text/x-python",
   "name": "python",
   "nbconvert_exporter": "python",
   "pygments_lexer": "ipython2",
   "version": "2.7.6"
  }
 },
 "nbformat": 4,
 "nbformat_minor": 5
}
